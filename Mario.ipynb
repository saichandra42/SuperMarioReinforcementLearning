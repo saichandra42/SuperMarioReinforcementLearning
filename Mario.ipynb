{
  "cells": [
    {
      "cell_type": "markdown",
      "metadata": {
        "id": "view-in-github",
        "colab_type": "text"
      },
      "source": [
        "<a href=\"https://colab.research.google.com/github/saichandra42/SuperMarioReinforcementLearning/blob/main/Mario.ipynb\" target=\"_parent\"><img src=\"https://colab.research.google.com/assets/colab-badge.svg\" alt=\"Open In Colab\"/></a>"
      ]
    },
    {
      "cell_type": "markdown",
      "id": "ee6217a7",
      "metadata": {
        "id": "ee6217a7"
      },
      "source": [
        "# Mario Environment"
      ]
    },
    {
      "cell_type": "code",
      "execution_count": null,
      "id": "5b793c37",
      "metadata": {
        "id": "5b793c37",
        "outputId": "46a8894d-b6f4-42f1-84cb-c937b5a0c4db"
      },
      "outputs": [
        {
          "name": "stderr",
          "output_type": "stream",
          "text": [
            "\n"
          ]
        }
      ],
      "source": [
        "import gym \n",
        "import gym_super_mario_bros\n",
        "import numpy as np\n",
        "import cv2\n",
        "import random\n",
        "\n",
        "import collections\n",
        "from nes_py.wrappers import JoypadSpace\n",
        "from gym_super_mario_bros.actions import SIMPLE_MOVEMENT"
      ]
    },
    {
      "cell_type": "code",
      "execution_count": null,
      "id": "45791eee",
      "metadata": {
        "id": "45791eee",
        "outputId": "7142f230-ff14-4906-ce2a-b00b8f788068"
      },
      "outputs": [
        {
          "name": "stdout",
          "output_type": "stream",
          "text": [
            "Requirement already satisfied: torch in /Users/saichandra/opt/anaconda3/lib/python3.8/site-packages (1.10.0)\n",
            "Requirement already satisfied: torchvision in /Users/saichandra/opt/anaconda3/lib/python3.8/site-packages (0.11.1)\n",
            "Requirement already satisfied: typing_extensions in /Users/saichandra/opt/anaconda3/lib/python3.8/site-packages (from torch) (3.7.4.3)\n",
            "Requirement already satisfied: numpy in /Users/saichandra/opt/anaconda3/lib/python3.8/site-packages (from torchvision) (1.22.3)\n",
            "Requirement already satisfied: pillow!=8.3.0,>=5.3.0 in /Users/saichandra/opt/anaconda3/lib/python3.8/site-packages (from torchvision) (8.2.0)\n",
            "Note: you may need to restart the kernel to use updated packages.\n"
          ]
        }
      ],
      "source": [
        "%pip install torch torchvision"
      ]
    },
    {
      "cell_type": "code",
      "execution_count": null,
      "id": "3da68544",
      "metadata": {
        "id": "3da68544",
        "outputId": "b96e3a76-98d3-4774-b3c6-a69894a4652d"
      },
      "outputs": [
        {
          "name": "stdout",
          "output_type": "stream",
          "text": [
            "Requirement already satisfied: gym_super_mario_bros in /Users/saichandra/opt/anaconda3/lib/python3.8/site-packages (7.3.0)\n",
            "Requirement already satisfied: nes-py>=8.0.0 in /Users/saichandra/opt/anaconda3/lib/python3.8/site-packages (from gym_super_mario_bros) (8.1.8)\n",
            "Requirement already satisfied: tqdm>=4.48.2 in /Users/saichandra/opt/anaconda3/lib/python3.8/site-packages (from nes-py>=8.0.0->gym_super_mario_bros) (4.59.0)\n",
            "Requirement already satisfied: numpy>=1.18.5 in /Users/saichandra/opt/anaconda3/lib/python3.8/site-packages (from nes-py>=8.0.0->gym_super_mario_bros) (1.22.3)\n",
            "Requirement already satisfied: gym>=0.17.2 in /Users/saichandra/opt/anaconda3/lib/python3.8/site-packages (from nes-py>=8.0.0->gym_super_mario_bros) (0.22.0)\n",
            "Requirement already satisfied: pyglet<=1.5.11,>=1.4.0 in /Users/saichandra/opt/anaconda3/lib/python3.8/site-packages (from nes-py>=8.0.0->gym_super_mario_bros) (1.5.11)\n",
            "Requirement already satisfied: gym-notices>=0.0.4 in /Users/saichandra/opt/anaconda3/lib/python3.8/site-packages (from gym>=0.17.2->nes-py>=8.0.0->gym_super_mario_bros) (0.0.4)\n",
            "Requirement already satisfied: cloudpickle>=1.2.0 in /Users/saichandra/opt/anaconda3/lib/python3.8/site-packages (from gym>=0.17.2->nes-py>=8.0.0->gym_super_mario_bros) (1.6.0)\n",
            "Requirement already satisfied: importlib-metadata>=4.10.0 in /Users/saichandra/opt/anaconda3/lib/python3.8/site-packages (from gym>=0.17.2->nes-py>=8.0.0->gym_super_mario_bros) (4.11.1)\n",
            "Requirement already satisfied: zipp>=0.5 in /Users/saichandra/opt/anaconda3/lib/python3.8/site-packages (from importlib-metadata>=4.10.0->gym>=0.17.2->nes-py>=8.0.0->gym_super_mario_bros) (3.4.1)\n",
            "Note: you may need to restart the kernel to use updated packages.\n"
          ]
        }
      ],
      "source": [
        "%pip install gym_super_mario_bros"
      ]
    },
    {
      "cell_type": "code",
      "execution_count": null,
      "id": "3245575b",
      "metadata": {
        "id": "3245575b"
      },
      "outputs": [],
      "source": [
        "env = gym_super_mario_bros.make('SuperMarioBros-1-1-v3')"
      ]
    },
    {
      "cell_type": "code",
      "execution_count": null,
      "id": "115b8ef2",
      "metadata": {
        "id": "115b8ef2"
      },
      "outputs": [],
      "source": [
        "class MaxAndSkipEnv(gym.Wrapper):\n",
        "    def __init__(self, env=None, skip=4):\n",
        "        \"\"\"Return only every `skip`-th frame\"\"\"\n",
        "        super(MaxAndSkipEnv, self).__init__(env)\n",
        "        # most recent raw observations (for max pooling across time steps)\n",
        "        self._obs_buffer = collections.deque(maxlen=2)\n",
        "        self._skip = skip\n",
        "\n",
        "    def step(self, action):\n",
        "        total_reward = 0.0\n",
        "        done = None\n",
        "        for _ in range(self._skip):\n",
        "            obs, reward, done, info = self.env.step(action)\n",
        "            self._obs_buffer.append(obs)\n",
        "            total_reward += reward\n",
        "            if done:\n",
        "                break\n",
        "        max_frame = np.max(np.stack(self._obs_buffer), axis=0)\n",
        "        return max_frame, total_reward, done, info\n",
        "\n",
        "    def reset(self):\n",
        "        \"\"\"Clear past frame buffer and init to first obs\"\"\"\n",
        "        self._obs_buffer.clear()\n",
        "        obs = self.env.reset()\n",
        "        self._obs_buffer.append(obs)\n",
        "        return obs\n",
        "\n",
        "\n",
        "class ProcessFrame84(gym.ObservationWrapper):\n",
        "    \"\"\"\n",
        "    Downsamples image to 84x84\n",
        "    Greyscales image\n",
        "\n",
        "    Returns numpy array\n",
        "    \"\"\"\n",
        "    def __init__(self, env=None):\n",
        "        super(ProcessFrame84, self).__init__(env)\n",
        "        self.observation_space = gym.spaces.Box(low=0, high=255, shape=(84, 84, 1), dtype=np.uint8)\n",
        "\n",
        "    def observation(self, obs):\n",
        "        return ProcessFrame84.process(obs)\n",
        "\n",
        "    @staticmethod\n",
        "    def process(frame):\n",
        "        if frame.size == 240 * 256 * 3:\n",
        "            img = np.reshape(frame, [240, 256, 3]).astype(np.float32)\n",
        "        else:\n",
        "            assert False, \"Unknown resolution.\"\n",
        "        img = img[:, :, 0] * 0.299 + img[:, :, 1] * 0.587 + img[:, :, 2] * 0.114\n",
        "        resized_screen = cv2.resize(img, (84, 110), interpolation=cv2.INTER_AREA)\n",
        "        x_t = resized_screen[18:102, :]\n",
        "        x_t = np.reshape(x_t, [84, 84, 1])\n",
        "        return x_t.astype(np.uint8)\n",
        "\n",
        "\n",
        "class ImageToPyTorch(gym.ObservationWrapper):\n",
        "    def __init__(self, env):\n",
        "        super(ImageToPyTorch, self).__init__(env)\n",
        "        old_shape = self.observation_space.shape\n",
        "        self.observation_space = gym.spaces.Box(low=0.0, high=1.0, shape=(old_shape[-1], old_shape[0], old_shape[1]),\n",
        "                                                dtype=np.float32)\n",
        "\n",
        "    def observation(self, observation):\n",
        "        return np.moveaxis(observation, 2, 0)\n",
        "\n",
        "\n",
        "class ScaledFloatFrame(gym.ObservationWrapper):\n",
        "    def observation(self, obs):\n",
        "        return np.array(obs).astype(np.float32) / 255.0\n",
        "\n",
        "\n",
        "class BufferWrapper(gym.ObservationWrapper):\n",
        "    def __init__(self, env, n_steps, dtype=np.float32):\n",
        "        super(BufferWrapper, self).__init__(env)\n",
        "        self.dtype = dtype\n",
        "        old_space = env.observation_space\n",
        "        self.observation_space = gym.spaces.Box(old_space.low.repeat(n_steps, axis=0),\n",
        "                                                old_space.high.repeat(n_steps, axis=0), dtype=dtype)\n",
        "\n",
        "    def reset(self):\n",
        "        self.buffer = np.zeros_like(self.observation_space.low, dtype=self.dtype)\n",
        "        return self.observation(self.env.reset())\n",
        "\n",
        "    def observation(self, observation):\n",
        "        self.buffer[:-1] = self.buffer[1:]\n",
        "        self.buffer[-1] = observation\n",
        "        return self.buffer\n",
        "\n",
        "\n",
        "def make_env(env):\n",
        "    env = MaxAndSkipEnv(env)\n",
        "    env = ProcessFrame84(env)\n",
        "    env = ImageToPyTorch(env)\n",
        "    env = BufferWrapper(env, 4)\n",
        "    env = ScaledFloatFrame(env)\n",
        "    return JoypadSpace(env, SIMPLE_MOVEMENT)"
      ]
    },
    {
      "cell_type": "code",
      "execution_count": null,
      "id": "d4777268",
      "metadata": {
        "id": "d4777268"
      },
      "outputs": [],
      "source": [
        "env = make_env(env)"
      ]
    },
    {
      "cell_type": "code",
      "execution_count": null,
      "id": "46e7d421",
      "metadata": {
        "id": "46e7d421"
      },
      "outputs": [],
      "source": [
        "import pandas as pd\n",
        "import numpy as np\n",
        "import seaborn as sns\n",
        "import matplotlib.pyplot as plt\n",
        "import warnings\n",
        "\n",
        "import collections \n",
        "import torch\n",
        "import torchvision\n",
        "import torchvision.transforms as transforms\n",
        "import torch.utils.data as torchDataUtils\n",
        "import torchmetrics\n",
        "import torch.nn as nn\n",
        "import torch.nn.functional as F\n",
        "import gym \n",
        "# from environment import env\n",
        "\n",
        "from tqdm import tqdm\n",
        "warnings.filterwarnings(\"ignore\")"
      ]
    },
    {
      "cell_type": "code",
      "execution_count": null,
      "id": "9cedaaf8",
      "metadata": {
        "id": "9cedaaf8"
      },
      "outputs": [],
      "source": [
        "# done = True\n",
        "# for step in range(5):\n",
        "#     if done:\n",
        "#         state = env.reset()\n",
        "#     state, reward, done, info = env.step(env.action_space.sample())\n",
        "#     # env.render()\n",
        "\n",
        "# env.close()"
      ]
    },
    {
      "cell_type": "code",
      "execution_count": null,
      "id": "60c2420e",
      "metadata": {
        "id": "60c2420e",
        "outputId": "c862ea46-e6ac-4cb3-9b68-7e45e79d64b9"
      },
      "outputs": [
        {
          "name": "stdout",
          "output_type": "stream",
          "text": [
            "(4, 84, 84)\n",
            "7\n"
          ]
        }
      ],
      "source": [
        "print(env.observation_space.shape)  # Dimensions of a frame\n",
        "print(env.action_space.n)  # Number of actions our agent can take"
      ]
    },
    {
      "cell_type": "code",
      "execution_count": null,
      "id": "c371fbf1",
      "metadata": {
        "id": "c371fbf1"
      },
      "outputs": [],
      "source": [
        "class MaxAndSkipEnv(gym.Wrapper):\n",
        "    \"\"\"\n",
        "        Each action of the agent is repeated over skip frames\n",
        "        return only every `skip`-th frame\n",
        "    \"\"\"\n",
        "    def __init__(self, env=None, skip=4):\n",
        "        super(MaxAndSkipEnv, self).__init__(env)\n",
        "        # most recent raw observations (for max pooling across time steps)\n",
        "        self._obs_buffer = collections.deque(maxlen=2)\n",
        "        self._skip = skip\n",
        "\n",
        "    def step(self, action):\n",
        "        total_reward = 0.0\n",
        "        done = None\n",
        "        for _ in range(self._skip):\n",
        "            obs, reward, done, info = self.env.step(action)\n",
        "            self._obs_buffer.append(obs)\n",
        "            total_reward += reward\n",
        "            if done:\n",
        "                break\n",
        "        max_frame = np.max(np.stack(self._obs_buffer), axis=0)\n",
        "        return max_frame, total_reward, done, info\n",
        "\n",
        "    def reset(self):\n",
        "        \"\"\"Clear past frame buffer and init to first obs\"\"\"\n",
        "        self._obs_buffer.clear()\n",
        "        obs = self.env.reset()\n",
        "        self._obs_buffer.append(obs)\n",
        "        return obs"
      ]
    },
    {
      "cell_type": "code",
      "execution_count": null,
      "id": "9fb1c258",
      "metadata": {
        "id": "9fb1c258"
      },
      "outputs": [],
      "source": [
        "class MarioRescale84x84(gym.ObservationWrapper):\n",
        "    \"\"\"\n",
        "    Downsamples/Rescales each frame to size 84x84 with greyscale\n",
        "    \"\"\"\n",
        "    def __init__(self, env=None):\n",
        "        super(MarioRescale84x84, self).__init__(env)\n",
        "        self.observation_space = gym.spaces.Box(low=0, high=255, shape=(84, 84, 1), dtype=np.uint8)\n",
        "\n",
        "    def observation(self, obs):\n",
        "        return MarioRescale84x84.process(obs)\n",
        "\n",
        "    @staticmethod\n",
        "    def process(frame):\n",
        "        if frame.size == 240 * 256 * 3:\n",
        "            img = np.reshape(frame, [240, 256, 3]).astype(np.float32)\n",
        "        else:\n",
        "            assert False, \"Unknown resolution.\" \n",
        "        # image normalization on RBG\n",
        "        img = img[:, :, 0] * 0.299 + img[:, :, 1] * 0.587 + img[:, :, 2] * 0.114\n",
        "        resized_screen = cv2.resize(img, (84, 110), interpolation=cv2.INTER_AREA)\n",
        "        x_t = resized_screen[18:102, :]\n",
        "        x_t = np.reshape(x_t, [84, 84, 1])\n",
        "        return x_t.astype(np.uint8)"
      ]
    },
    {
      "cell_type": "code",
      "execution_count": null,
      "id": "0cb70437",
      "metadata": {
        "id": "0cb70437"
      },
      "outputs": [],
      "source": [
        "class ImageToPyTorch(gym.ObservationWrapper):\n",
        "    \"\"\"\n",
        "    Each frame is converted to PyTorch tensors\n",
        "    \"\"\"\n",
        "    def __init__(self, env):\n",
        "        super(ImageToPyTorch, self).__init__(env)\n",
        "        old_shape = self.observation_space.shape\n",
        "        self.observation_space = gym.spaces.Box(low=0.0, high=1.0, shape=(old_shape[-1], old_shape[0], old_shape[1]), dtype=np.float32)\n",
        "\n",
        "    def observation(self, observation):\n",
        "        return np.moveaxis(observation, 2, 0)"
      ]
    },
    {
      "cell_type": "code",
      "execution_count": null,
      "id": "b8ffd666",
      "metadata": {
        "id": "b8ffd666"
      },
      "outputs": [],
      "source": [
        "class BufferWrapper(gym.ObservationWrapper):\n",
        "    \"\"\"\n",
        "    Only every k-th frame is collected by the buffer\n",
        "    \"\"\"\n",
        "    def __init__(self, env, n_steps, dtype=np.float32):\n",
        "        super(BufferWrapper, self).__init__(env)\n",
        "        self.dtype = dtype\n",
        "        old_space = env.observation_space\n",
        "        self.observation_space = gym.spaces.Box(old_space.low.repeat(n_steps, axis=0),\n",
        "                                                old_space.high.repeat(n_steps, axis=0), dtype=dtype)\n",
        "\n",
        "    def reset(self):\n",
        "        self.buffer = np.zeros_like(self.observation_space.low, dtype=self.dtype)\n",
        "        return self.observation(self.env.reset())\n",
        "\n",
        "    def observation(self, observation):\n",
        "        self.buffer[:-1] = self.buffer[1:]\n",
        "        self.buffer[-1] = observation\n",
        "        return self.buffer"
      ]
    },
    {
      "cell_type": "code",
      "execution_count": null,
      "id": "d3a4d42d",
      "metadata": {
        "id": "d3a4d42d"
      },
      "outputs": [],
      "source": [
        "class PixelNormalization(gym.ObservationWrapper):\n",
        "    \"\"\"\n",
        "    Normalize pixel values in frame --> 0 to 1\n",
        "    \"\"\"\n",
        "    def observation(self, obs):\n",
        "        return np.array(obs).astype(np.float32) / 255.0"
      ]
    },
    {
      "cell_type": "code",
      "execution_count": null,
      "id": "b98ca93c",
      "metadata": {
        "id": "b98ca93c"
      },
      "outputs": [],
      "source": [
        "def make_env(env):\n",
        "    env = MaxAndSkipEnv(env)\n",
        "    env = MarioRescale84x84(env)\n",
        "    env = ImageToPyTorch(env)\n",
        "    env = BufferWrapper(env, 4)\n",
        "    env = PixelNormalization(env)\n",
        "    return env"
      ]
    },
    {
      "cell_type": "code",
      "execution_count": null,
      "id": "041e5ae9",
      "metadata": {
        "id": "041e5ae9",
        "outputId": "1a00ffd2-14d9-4d41-8b1a-1160e1ffb357"
      },
      "outputs": [
        {
          "data": {
            "text/plain": [
              "<PixelNormalization<BufferWrapper<ImageToPyTorch<MarioRescale84x84<MaxAndSkipEnv<JoypadSpace<ScaledFloatFrame<BufferWrapper<ImageToPyTorch<ProcessFrame84<MaxAndSkipEnv<TimeLimit<OrderEnforcing<SuperMarioBrosEnv<SuperMarioBros-1-1-v3>>>>>>>>>>>>>>>"
            ]
          },
          "execution_count": 16,
          "metadata": {},
          "output_type": "execute_result"
        }
      ],
      "source": [
        "make_env(env)"
      ]
    },
    {
      "cell_type": "code",
      "execution_count": null,
      "id": "1a719c3b",
      "metadata": {
        "id": "1a719c3b"
      },
      "outputs": [],
      "source": [
        "class DQNAgent:\n",
        "    def __init__(self, state_space, action_space, epsilon):\n",
        "        # Define DQN Layers\n",
        "        self.state_space = state_space\n",
        "        self.epsilon = epsilon\n",
        "        self.action_space = action_space\n",
        "        self.device = 'cuda:0' if torch.cuda.is_available() else 'cpu'        \n",
        "        self.dqn = DeepQNetwork(state_space, action_space).to(self.device)\n",
        "        \n",
        "    def act(self, state):\n",
        "        cutoff = np.random.uniform(0,1)\n",
        "        if cutoff < self.epsilon:\n",
        "            # Taking a random action\n",
        "            space_range = random.randrange(self.action_space)\n",
        "            action = torch.tensor([space_range])\n",
        "        else:\n",
        "            # Exploit the environment\n",
        "            # Forward propogation of the neural network\n",
        "            max_q_value_getter = self.dqn(state.to(self.device))\n",
        "            action = torch.argmax(max_q_value_getter).unsqueeze(0).unsqueeze(0).to(self.device)\n",
        "        return action"
      ]
    },
    {
      "cell_type": "code",
      "execution_count": null,
      "id": "e726318e",
      "metadata": {
        "id": "e726318e"
      },
      "outputs": [],
      "source": [
        "class DeepQNetwork(nn.Module):\n",
        "    def __init__(self, input_shape, n_actions):\n",
        "        super(DeepQNetwork, self).__init__()\n",
        "        self.conv = nn.Sequential(\n",
        "            nn.Conv2d(input_shape[0], 32, kernel_size=8, stride=4),\n",
        "            nn.ReLU(),\n",
        "            nn.Conv2d(32, 64, kernel_size=4, stride=2),\n",
        "            nn.ReLU(),\n",
        "            nn.Conv2d(64, 64, kernel_size=3, stride=1),\n",
        "            nn.ReLU()\n",
        "        )\n",
        "\n",
        "        conv_out_size = self._get_conv_out(input_shape)\n",
        "        self.fc = nn.Sequential(\n",
        "            nn.Linear(conv_out_size, 512),\n",
        "            nn.ReLU(),\n",
        "            nn.Linear(512, n_actions)\n",
        "        )\n",
        "    \n",
        "    def _get_conv_out(self, shape):\n",
        "        o = self.conv(torch.zeros(1, *shape))\n",
        "        return int(np.prod(o.size()))\n",
        "\n",
        "    def forward(self, x):\n",
        "        conv_out = self.conv(x).view(x.size()[0], -1)\n",
        "        return self.fc(conv_out)"
      ]
    },
    {
      "cell_type": "code",
      "execution_count": null,
      "id": "6595c56a",
      "metadata": {
        "id": "6595c56a"
      },
      "outputs": [],
      "source": [
        "observation_space = env.observation_space.shape\n",
        "action_space = env.action_space.n\n",
        "agent = DQNAgent(state_space=observation_space,action_space=action_space,epsilon=0.4)"
      ]
    },
    {
      "cell_type": "code",
      "execution_count": null,
      "id": "7d3a3be0",
      "metadata": {
        "id": "7d3a3be0"
      },
      "outputs": [],
      "source": [
        "def run(env,num_episodes=1000):   \n",
        "    # Restart the enviroment for each episode\n",
        "    num_episodes = num_episodes\n",
        "    env.reset()\n",
        "    \n",
        "    total_rewards = []\n",
        "\n",
        "    for ep_num in tqdm(range(num_episodes)):\n",
        "        state = env.reset()\n",
        "        state = torch.Tensor([state])\n",
        "        total_reward = 0\n",
        "        steps = 0\n",
        "        while True:\n",
        "            action = agent.act(state)\n",
        "            steps += 1\n",
        "            state_next, reward, terminal, info = env.step(int(action[0]))\n",
        "            total_reward += reward\n",
        "            state_next = torch.Tensor([state_next])\n",
        "            reward = torch.tensor([reward]).unsqueeze(0)\n",
        "            terminal = torch.tensor([int(terminal)]).unsqueeze(0)                \n",
        "            state = state_next\n",
        "            if terminal:\n",
        "                break\n",
        "        \n",
        "        total_rewards.append(total_reward)\n",
        "        \n",
        "        if ep_num != 0 and ep_num % 5 == 0:\n",
        "            print(\"Episode {} score = {}, average score = {}\".format(ep_num + 1, total_rewards[-1], np.mean(total_rewards)))\n",
        "        num_episodes += 1  \n",
        "    \n",
        "    plt.plot(total_rewards)\n",
        "    plt.show()\n",
        "    print(\"Episode {} score = {}, average score = {}\".format(ep_num + 1, total_rewards[-1], np.mean(total_rewards)))  \n",
        "    env.close()"
      ]
    },
    {
      "cell_type": "code",
      "execution_count": null,
      "id": "e66f2622",
      "metadata": {
        "id": "e66f2622",
        "outputId": "de59d6fc-2a30-4792-a14a-799240ffbd08"
      },
      "outputs": [
        {
          "name": "stderr",
          "output_type": "stream",
          "text": [
            "  6%|▌         | 6/100 [00:19<03:05,  1.97s/it]"
          ]
        },
        {
          "name": "stdout",
          "output_type": "stream",
          "text": [
            "Episode 6 score = 618.0, average score = 336.3333333333333\n"
          ]
        },
        {
          "name": "stderr",
          "output_type": "stream",
          "text": [
            " 11%|█         | 11/100 [00:59<11:17,  7.61s/it]"
          ]
        },
        {
          "name": "stdout",
          "output_type": "stream",
          "text": [
            "Episode 11 score = 253.0, average score = 361.72727272727275\n"
          ]
        },
        {
          "name": "stderr",
          "output_type": "stream",
          "text": [
            " 16%|█▌        | 16/100 [01:01<02:15,  1.61s/it]"
          ]
        },
        {
          "name": "stdout",
          "output_type": "stream",
          "text": [
            "Episode 16 score = 248.0, average score = 326.75\n"
          ]
        },
        {
          "name": "stderr",
          "output_type": "stream",
          "text": [
            " 21%|██        | 21/100 [02:55<20:34, 15.63s/it]"
          ]
        },
        {
          "name": "stdout",
          "output_type": "stream",
          "text": [
            "Episode 21 score = 251.0, average score = 311.76190476190476\n"
          ]
        },
        {
          "name": "stderr",
          "output_type": "stream",
          "text": [
            " 26%|██▌       | 26/100 [04:52<30:35, 24.80s/it]"
          ]
        },
        {
          "name": "stdout",
          "output_type": "stream",
          "text": [
            "Episode 26 score = 267.0, average score = 302.34615384615387\n"
          ]
        },
        {
          "name": "stderr",
          "output_type": "stream",
          "text": [
            " 31%|███       | 31/100 [06:24<27:09, 23.62s/it]"
          ]
        },
        {
          "name": "stdout",
          "output_type": "stream",
          "text": [
            "Episode 31 score = 268.0, average score = 305.16129032258067\n"
          ]
        },
        {
          "name": "stderr",
          "output_type": "stream",
          "text": [
            " 36%|███▌      | 36/100 [06:55<06:53,  6.47s/it]"
          ]
        },
        {
          "name": "stdout",
          "output_type": "stream",
          "text": [
            "Episode 36 score = 251.0, average score = 297.3888888888889\n"
          ]
        },
        {
          "name": "stderr",
          "output_type": "stream",
          "text": [
            " 41%|████      | 41/100 [08:12<11:30, 11.71s/it]"
          ]
        },
        {
          "name": "stdout",
          "output_type": "stream",
          "text": [
            "Episode 41 score = 252.0, average score = 295.8292682926829\n"
          ]
        },
        {
          "name": "stderr",
          "output_type": "stream",
          "text": [
            " 46%|████▌     | 46/100 [08:56<05:31,  6.13s/it]"
          ]
        },
        {
          "name": "stdout",
          "output_type": "stream",
          "text": [
            "Episode 46 score = 248.0, average score = 304.67391304347825\n"
          ]
        },
        {
          "name": "stderr",
          "output_type": "stream",
          "text": [
            " 51%|█████     | 51/100 [09:11<02:53,  3.53s/it]"
          ]
        },
        {
          "name": "stdout",
          "output_type": "stream",
          "text": [
            "Episode 51 score = 249.0, average score = 311.4901960784314\n"
          ]
        },
        {
          "name": "stderr",
          "output_type": "stream",
          "text": [
            " 56%|█████▌    | 56/100 [09:30<01:59,  2.72s/it]"
          ]
        },
        {
          "name": "stdout",
          "output_type": "stream",
          "text": [
            "Episode 56 score = 251.0, average score = 308.60714285714283\n"
          ]
        },
        {
          "name": "stderr",
          "output_type": "stream",
          "text": [
            " 61%|██████    | 61/100 [10:42<09:25, 14.51s/it]"
          ]
        },
        {
          "name": "stdout",
          "output_type": "stream",
          "text": [
            "Episode 61 score = 267.0, average score = 307.7704918032787\n"
          ]
        },
        {
          "name": "stderr",
          "output_type": "stream",
          "text": [
            " 66%|██████▌   | 66/100 [11:04<02:34,  4.55s/it]"
          ]
        },
        {
          "name": "stdout",
          "output_type": "stream",
          "text": [
            "Episode 66 score = 251.0, average score = 311.1363636363636\n"
          ]
        },
        {
          "name": "stderr",
          "output_type": "stream",
          "text": [
            " 71%|███████   | 71/100 [11:41<05:10, 10.71s/it]"
          ]
        },
        {
          "name": "stdout",
          "output_type": "stream",
          "text": [
            "Episode 71 score = 267.0, average score = 311.38028169014086\n"
          ]
        },
        {
          "name": "stderr",
          "output_type": "stream",
          "text": [
            " 76%|███████▌  | 76/100 [12:45<03:33,  8.88s/it]"
          ]
        },
        {
          "name": "stdout",
          "output_type": "stream",
          "text": [
            "Episode 76 score = 253.0, average score = 312.57894736842104\n"
          ]
        },
        {
          "name": "stderr",
          "output_type": "stream",
          "text": [
            " 81%|████████  | 81/100 [13:57<04:38, 14.68s/it]"
          ]
        },
        {
          "name": "stdout",
          "output_type": "stream",
          "text": [
            "Episode 81 score = 267.0, average score = 317.38271604938274\n"
          ]
        },
        {
          "name": "stderr",
          "output_type": "stream",
          "text": [
            " 86%|████████▌ | 86/100 [15:29<03:35, 15.37s/it]"
          ]
        },
        {
          "name": "stdout",
          "output_type": "stream",
          "text": [
            "Episode 86 score = 243.0, average score = 317.1860465116279\n"
          ]
        },
        {
          "name": "stderr",
          "output_type": "stream",
          "text": [
            " 91%|█████████ | 91/100 [16:33<02:11, 14.62s/it]"
          ]
        },
        {
          "name": "stdout",
          "output_type": "stream",
          "text": [
            "Episode 91 score = 267.0, average score = 317.5054945054945\n"
          ]
        },
        {
          "name": "stderr",
          "output_type": "stream",
          "text": [
            " 96%|█████████▌| 96/100 [17:42<00:39,  9.99s/it]"
          ]
        },
        {
          "name": "stdout",
          "output_type": "stream",
          "text": [
            "Episode 96 score = 577.0, average score = 324.1354166666667\n"
          ]
        },
        {
          "name": "stderr",
          "output_type": "stream",
          "text": [
            "100%|██████████| 100/100 [18:17<00:00, 10.98s/it]\n"
          ]
        },
        {
          "data": {
            "image/png": "[encoded data removed]",
            "text/plain": [
              "<Figure size 432x288 with 1 Axes>"
            ]
          },
          "metadata": {
            "needs_background": "light"
          },
          "output_type": "display_data"
        },
        {
          "name": "stdout",
          "output_type": "stream",
          "text": [
            "Episode 100 score = 251.0, average score = 324.61\n"
          ]
        }
      ],
      "source": [
        "run(env,num_episodes=100)"
      ]
    },
    {
      "cell_type": "code",
      "execution_count": null,
      "id": "2fce82ba",
      "metadata": {
        "id": "2fce82ba"
      },
      "outputs": [],
      "source": []
    }
  ],
  "metadata": {
    "interpreter": {
      "hash": "d5a7c50cb37b9a8d16f83dcb11bfb78ad3a845830708c855df0980efa1084b32"
    },
    "kernelspec": {
      "display_name": "Python 3 (ipykernel)",
      "language": "python",
      "name": "python3"
    },
    "language_info": {
      "codemirror_mode": {
        "name": "ipython",
        "version": 3
      },
      "file_extension": ".py",
      "mimetype": "text/x-python",
      "name": "python",
      "nbconvert_exporter": "python",
      "pygments_lexer": "ipython3",
      "version": "3.8.8"
    },
    "toc": {
      "base_numbering": 1,
      "nav_menu": {},
      "number_sections": true,
      "sideBar": true,
      "skip_h1_title": false,
      "title_cell": "Table of Contents",
      "title_sidebar": "Contents",
      "toc_cell": false,
      "toc_position": {},
      "toc_section_display": true,
      "toc_window_display": false
    },
    "colab": {
      "provenance": [],
      "include_colab_link": true
    }
  },
  "nbformat": 4,
  "nbformat_minor": 5
}